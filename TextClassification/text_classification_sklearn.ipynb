{
 "cells": [
  {
   "cell_type": "markdown",
   "metadata": {},
   "source": [
    "### Helpful link"
   ]
  },
  {
   "cell_type": "markdown",
   "metadata": {},
   "source": [
    "https://blog.csdn.net/abcjennifer/article/details/23615947"
   ]
  },
  {
   "cell_type": "markdown",
   "metadata": {},
   "source": [
    "### Import"
   ]
  },
  {
   "cell_type": "code",
   "execution_count": 32,
   "metadata": {},
   "outputs": [],
   "source": [
    "from sklearn.datasets import fetch_20newsgroups \n",
    "import sklearn\n",
    "\n",
    "newsgroup_train = sklearn.datasets.load_files('./20news-bydate-train')\n",
    "newsgroup_test = sklearn.datasets.load_files('./20news-bydate-test')"
   ]
  },
  {
   "cell_type": "code",
   "execution_count": 33,
   "metadata": {},
   "outputs": [
    {
     "name": "stdout",
     "output_type": "stream",
     "text": [
      "['alt.atheism',\n",
      " 'comp.graphics',\n",
      " 'comp.os.ms-windows.misc',\n",
      " 'comp.sys.ibm.pc.hardware',\n",
      " 'comp.sys.mac.hardware',\n",
      " 'comp.windows.x',\n",
      " 'misc.forsale',\n",
      " 'rec.autos',\n",
      " 'rec.motorcycles',\n",
      " 'rec.sport.baseball',\n",
      " 'rec.sport.hockey',\n",
      " 'sci.crypt',\n",
      " 'sci.electronics',\n",
      " 'sci.med',\n",
      " 'sci.space',\n",
      " 'soc.religion.christian',\n",
      " 'talk.politics.guns',\n",
      " 'talk.politics.mideast',\n",
      " 'talk.politics.misc',\n",
      " 'talk.religion.misc']\n"
     ]
    }
   ],
   "source": [
    "from pprint import pprint  \n",
    "pprint(list(newsgroup_train.target_names))"
   ]
  },
  {
   "cell_type": "markdown",
   "metadata": {},
   "source": [
    "### Feature"
   ]
  },
  {
   "cell_type": "code",
   "execution_count": 43,
   "metadata": {},
   "outputs": [],
   "source": [
    "import warnings\n",
    "warnings.filterwarnings('ignore')"
   ]
  },
  {
   "cell_type": "code",
   "execution_count": 46,
   "metadata": {},
   "outputs": [
    {
     "name": "stdout",
     "output_type": "stream",
     "text": [
      "Size of fea_train:(11314, 10000)\n",
      "Size of fea_test:(7532, 10000)\n",
      "The average feature sparsity is 1.128%\n"
     ]
    }
   ],
   "source": [
    "from sklearn.feature_extraction.text import HashingVectorizer\n",
    "\n",
    "vectorizer = HashingVectorizer(stop_words = 'english', non_negative = True, n_features = 10000, encoding='latin-1')  \n",
    "fea_train = vectorizer.fit_transform(newsgroup_train.data)  \n",
    "fea_test = vectorizer.fit_transform(newsgroup_test.data)\n",
    "\n",
    "print ('Size of fea_train:' + repr(fea_train.shape))  \n",
    "print ('Size of fea_test:' + repr(fea_test.shape))  \n",
    "#11314 documents, 130107 vectors for all categories  \n",
    "print ('The average feature sparsity is {0:.3f}%'.format(fea_train.nnz/float(fea_train.shape[0]*fea_train.shape[1])*100))"
   ]
  },
  {
   "cell_type": "markdown",
   "metadata": {},
   "source": [
    "### Classification"
   ]
  },
  {
   "cell_type": "code",
   "execution_count": 69,
   "metadata": {},
   "outputs": [],
   "source": [
    "def calculate_result(actual,pred):  \n",
    "    m_precision = metrics.precision_score(actual,pred,average='macro')\n",
    "    m_recall = metrics.recall_score(actual,pred,average='macro')\n",
    "    print ('predict info:')  \n",
    "    print ('precision:{0:.3f}'.format(m_precision))  \n",
    "    print ('recall:{0:0.3f}'.format(m_recall))\n",
    "    print ('f1-score:{0:.3f}'.format(metrics.f1_score(actual,pred,average='macro')))"
   ]
  },
  {
   "cell_type": "markdown",
   "metadata": {},
   "source": [
    "#### Multinomial Naive Bayes Classifier"
   ]
  },
  {
   "cell_type": "code",
   "execution_count": 70,
   "metadata": {},
   "outputs": [
    {
     "name": "stdout",
     "output_type": "stream",
     "text": [
      "*************************\n",
      "Naive Bayes\n",
      "*************************\n",
      "predict info:\n",
      "precision:0.798\n",
      "recall:0.790\n",
      "f1-score:0.791\n"
     ]
    }
   ],
   "source": [
    "from sklearn.naive_bayes import MultinomialNB  \n",
    "from sklearn import metrics\n",
    "\n",
    "print ('*************************\\nNaive Bayes\\n*************************')  \n",
    "\n",
    "clf = MultinomialNB(alpha = 0.01)   \n",
    "clf.fit(fea_train,newsgroup_train.target) \n",
    "pred = clf.predict(fea_test)\n",
    "calculate_result(newsgroup_test.target,pred)"
   ]
  },
  {
   "cell_type": "markdown",
   "metadata": {},
   "source": [
    "#### KNN"
   ]
  },
  {
   "cell_type": "code",
   "execution_count": 71,
   "metadata": {},
   "outputs": [
    {
     "name": "stdout",
     "output_type": "stream",
     "text": [
      "*************************\n",
      "KNN\n",
      "*************************\n",
      "predict info:\n",
      "precision:0.626\n",
      "recall:0.614\n",
      "f1-score:0.615\n"
     ]
    }
   ],
   "source": [
    "from sklearn.neighbors import KNeighborsClassifier  \n",
    "\n",
    "print ('*************************\\nKNN\\n*************************')  \n",
    "\n",
    "knnclf = KNeighborsClassifier()#default with k=5  \n",
    "knnclf.fit(fea_train,newsgroup_train.target)  \n",
    "pred = knnclf.predict(fea_test)\n",
    "calculate_result(newsgroup_test.target,pred)"
   ]
  },
  {
   "cell_type": "markdown",
   "metadata": {},
   "source": [
    "#### Logistic Regression"
   ]
  },
  {
   "cell_type": "code",
   "execution_count": 73,
   "metadata": {},
   "outputs": [
    {
     "name": "stdout",
     "output_type": "stream",
     "text": [
      "*************************\n",
      "LR\n",
      "*************************\n",
      "predict info:\n",
      "precision:0.773\n",
      "recall:0.762\n",
      "f1-score:0.763\n"
     ]
    }
   ],
   "source": [
    "from sklearn.linear_model import LogisticRegression\n",
    "\n",
    "print ('*************************\\nLR\\n*************************')\n",
    "\n",
    "lrclf = LogisticRegression()\n",
    "lrclf.fit(fea_train,newsgroup_train.target)\n",
    "pred = lrclf.predict(fea_test)\n",
    "calculate_result(newsgroup_test.target,pred)"
   ]
  },
  {
   "cell_type": "markdown",
   "metadata": {},
   "source": [
    "#### SVM"
   ]
  },
  {
   "cell_type": "code",
   "execution_count": 72,
   "metadata": {},
   "outputs": [
    {
     "name": "stdout",
     "output_type": "stream",
     "text": [
      "*************************\n",
      "SVM\n",
      "*************************\n",
      "predict info:\n",
      "precision:0.787\n",
      "recall:0.777\n",
      "f1-score:0.779\n"
     ]
    }
   ],
   "source": [
    "from sklearn.svm import SVC  \n",
    "\n",
    "print ('*************************\\nSVM\\n*************************')\n",
    "\n",
    "svclf = SVC(kernel = 'linear')#default with 'rbf'  \n",
    "svclf.fit(fea_train,newsgroup_train.target)\n",
    "pred = svclf.predict(fea_test)\n",
    "calculate_result(newsgroup_test.target,pred)"
   ]
  },
  {
   "cell_type": "markdown",
   "metadata": {},
   "source": [
    "#### Decision Tree"
   ]
  },
  {
   "cell_type": "code",
   "execution_count": 74,
   "metadata": {},
   "outputs": [
    {
     "name": "stdout",
     "output_type": "stream",
     "text": [
      "*************************\n",
      "DT\n",
      "*************************\n",
      "predict info:\n",
      "precision:0.513\n",
      "recall:0.510\n",
      "f1-score:0.510\n"
     ]
    }
   ],
   "source": [
    "from sklearn import tree\n",
    "\n",
    "print ('*************************\\nDT\\n*************************')\n",
    "\n",
    "dtclf = tree.DecisionTreeClassifier()  \n",
    "dtclf.fit(fea_train,newsgroup_train.target)\n",
    "pred = dtclf.predict(fea_test)\n",
    "calculate_result(newsgroup_test.target,pred)"
   ]
  },
  {
   "cell_type": "markdown",
   "metadata": {},
   "source": [
    "#### Random Forest"
   ]
  },
  {
   "cell_type": "code",
   "execution_count": 75,
   "metadata": {},
   "outputs": [
    {
     "name": "stdout",
     "output_type": "stream",
     "text": [
      "*************************\n",
      "RF\n",
      "*************************\n",
      "predict info:\n",
      "precision:0.621\n",
      "recall:0.610\n",
      "f1-score:0.609\n"
     ]
    }
   ],
   "source": [
    "from sklearn.ensemble import RandomForestClassifier\n",
    "\n",
    "print ('*************************\\nRF\\n*************************')\n",
    "\n",
    "rfclf = RandomForestClassifier()\n",
    "rfclf.fit(fea_train,newsgroup_train.target)\n",
    "pred = rfclf.predict(fea_test)\n",
    "calculate_result(newsgroup_test.target,pred)"
   ]
  },
  {
   "cell_type": "markdown",
   "metadata": {},
   "source": [
    "#### Adaboost"
   ]
  },
  {
   "cell_type": "code",
   "execution_count": 78,
   "metadata": {},
   "outputs": [
    {
     "name": "stdout",
     "output_type": "stream",
     "text": [
      "*************************\n",
      "Adaboost\n",
      "*************************\n",
      "predict info:\n",
      "precision:0.538\n",
      "recall:0.440\n",
      "f1-score:0.460\n"
     ]
    }
   ],
   "source": [
    "from sklearn.ensemble import AdaBoostClassifier\n",
    "\n",
    "print ('*************************\\nAdaboost\\n*************************')\n",
    "\n",
    "abclf = AdaBoostClassifier()\n",
    "abclf.fit(fea_train,newsgroup_train.target)\n",
    "pred = abclf.predict(fea_test)\n",
    "calculate_result(newsgroup_test.target,pred)"
   ]
  }
 ],
 "metadata": {
  "kernelspec": {
   "display_name": "Python 3",
   "language": "python",
   "name": "python3"
  },
  "language_info": {
   "codemirror_mode": {
    "name": "ipython",
    "version": 3
   },
   "file_extension": ".py",
   "mimetype": "text/x-python",
   "name": "python",
   "nbconvert_exporter": "python",
   "pygments_lexer": "ipython3",
   "version": "3.6.4"
  }
 },
 "nbformat": 4,
 "nbformat_minor": 2
}
