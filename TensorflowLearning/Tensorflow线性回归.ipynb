{
 "cells": [
  {
   "cell_type": "markdown",
   "metadata": {},
   "source": [
    "### Link : https://blog.csdn.net/luoyexuge/article/details/78209670"
   ]
  },
  {
   "cell_type": "markdown",
   "metadata": {},
   "source": [
    "### Train"
   ]
  },
  {
   "cell_type": "code",
   "execution_count": 1,
   "metadata": {},
   "outputs": [
    {
     "name": "stderr",
     "output_type": "stream",
     "text": [
      "C:\\ProgramData\\Anaconda3\\lib\\site-packages\\h5py\\__init__.py:36: FutureWarning: Conversion of the second argument of issubdtype from `float` to `np.floating` is deprecated. In future, it will be treated as `np.float64 == np.dtype(float).type`.\n",
      "  from ._conv import register_converters as _register_converters\n"
     ]
    }
   ],
   "source": [
    "import tensorflow as tf\n",
    "import numpy as np\n",
    "import matplotlib.pyplot as plt"
   ]
  },
  {
   "cell_type": "code",
   "execution_count": 2,
   "metadata": {},
   "outputs": [],
   "source": [
    "# import data\n",
    "\n",
    "money = np.array([[109],[82],[99], [72], [87], [78], [86], [84], [94], [57]]).astype(np.float32)\n",
    "click = np.array([[11], [8], [8], [6],[ 7], [7], [7], [8], [9], [5]]).astype(np.float32)"
   ]
  },
  {
   "cell_type": "code",
   "execution_count": 3,
   "metadata": {},
   "outputs": [],
   "source": [
    "# split data\n",
    "\n",
    "x_test = money[0:5].reshape(-1,1)\n",
    "y_test = click[0:5]\n",
    "x_train = money[5:].reshape(-1,1)\n",
    "y_train = click[5:]"
   ]
  },
  {
   "cell_type": "code",
   "execution_count": 4,
   "metadata": {},
   "outputs": [],
   "source": [
    "# definitions\n",
    "\n",
    "x = tf.placeholder(tf.float32,[None,1], name='x')\n",
    "w = tf.Variable(tf.zeros([1, 1]))\n",
    "b = tf.Variable(tf.zeros([1]))\n",
    "y = tf.matmul(x, w) + b\n",
    "tf.add_to_collection('pred_network', y)\n",
    "y_ = tf.placeholder(tf.float32, [None,1])\n",
    "cost = tf.reduce_sum(tf.pow((y - y_), 2))\n",
    "train_step = tf.train.GradientDescentOptimizer(0.000001).minimize(cost)"
   ]
  },
  {
   "cell_type": "code",
   "execution_count": 5,
   "metadata": {},
   "outputs": [],
   "source": [
    "# training\n",
    "\n",
    "init = tf.global_variables_initializer()\n",
    "sess = tf.Session()\n",
    "sess.run(init)\n",
    "cost_history = []\n",
    "saver = tf.train.Saver()\n",
    "\n",
    "for i in range(100):\n",
    "    feed = {x:x_train, y_:y_train}\n",
    "    sess.run(train_step, feed_dict = feed)\n",
    "    cost_history.append(sess.run(cost, feed_dict = feed))"
   ]
  },
  {
   "cell_type": "code",
   "execution_count": 6,
   "metadata": {},
   "outputs": [
    {
     "name": "stdout",
     "output_type": "stream",
     "text": [
      "109的预测值是: [[9.848552]]\n",
      "W_Value: 0.090344 b_Value: 0.001086 cost_Value: 1.043675\n",
      "model saved in file:  ./model.ckpt-100\n"
     ]
    }
   ],
   "source": [
    "# prediction\n",
    "\n",
    "print(\"109的预测值是:\", sess.run(y, feed_dict={x: [[109]]}))\n",
    "print(\"W_Value: %f\" % sess.run(w), \"b_Value: %f\" % sess.run(b), \"cost_Value: %f\" % sess.run(cost, feed_dict=feed))\n",
    "saver_path = saver.save(sess, \"./model.ckpt\", global_step=100)\n",
    "print(\"model saved in file: \", saver_path)"
   ]
  },
  {
   "cell_type": "markdown",
   "metadata": {},
   "source": [
    "一、 saver.restore()时填的文件名，因为在saver.save的时候，每个checkpoint会保存三个文件，如 model.ckpt-100.meta, model.ckpt-100.index, model.ckpt-100.data-00000-of-00001 \n",
    "\n",
    "在import_meta_graph时填的就是meta文件名，我们知道权值都保存在model.ckpt-100.data-00000-of-00001这个文件中，但是如果在restore方法中填这个文件名，就会报错，应该填的是前缀，这个前缀可以使用tf.train.latest_checkpoint(checkpoint_dir)这个方法获取。\n",
    "\n",
    "二、模型的y中有用到placeholder，在sess.run()的时候肯定要feed对应的数据，因此还要根据具体placeholder的名字，从graph中使用get_operation_by_name方法获取。"
   ]
  },
  {
   "cell_type": "markdown",
   "metadata": {},
   "source": [
    "### Test"
   ]
  },
  {
   "cell_type": "code",
   "execution_count": 12,
   "metadata": {},
   "outputs": [
    {
     "name": "stdout",
     "output_type": "stream",
     "text": [
      "INFO:tensorflow:Restoring parameters from ./model.ckpt-100\n",
      "Tensor(\"x:0\", shape=(?, 1), dtype=float32) Tensor(\"add:0\", shape=(?, 1), dtype=float32)\n"
     ]
    }
   ],
   "source": [
    "import tensorflow as tf\n",
    "\n",
    "sess = tf.Session()\n",
    "new_saver = tf.train.import_meta_graph('./model.ckpt-100.meta')\n",
    "new_saver.restore(sess, \"./model.ckpt-100\")\n",
    "graph = tf.get_default_graph()\n",
    "x = graph.get_operation_by_name('x').outputs[0]\n",
    "y = tf.get_collection(\"pred_network\")[0]\n",
    "    \n",
    "print(x, y)"
   ]
  },
  {
   "cell_type": "code",
   "execution_count": 13,
   "metadata": {},
   "outputs": [
    {
     "name": "stdout",
     "output_type": "stream",
     "text": [
      "109的预测值是: [[9.848552]]\n"
     ]
    }
   ],
   "source": [
    "print(\"109的预测值是:\", sess.run(y, feed_dict={x: [[109]]}))"
   ]
  },
  {
   "cell_type": "markdown",
   "metadata": {},
   "source": [
    "### Reference"
   ]
  },
  {
   "cell_type": "markdown",
   "metadata": {},
   "source": [
    "https://blog.csdn.net/thriving_fcl/article/details/71423039\n",
    "\n",
    "https://blog.csdn.net/ying86615791/article/details/72731372\n",
    "\n",
    "https://blog.csdn.net/huachao1001/article/details/78501928"
   ]
  }
 ],
 "metadata": {
  "kernelspec": {
   "display_name": "Python 3",
   "language": "python",
   "name": "python3"
  },
  "language_info": {
   "codemirror_mode": {
    "name": "ipython",
    "version": 3
   },
   "file_extension": ".py",
   "mimetype": "text/x-python",
   "name": "python",
   "nbconvert_exporter": "python",
   "pygments_lexer": "ipython3",
   "version": "3.6.4"
  }
 },
 "nbformat": 4,
 "nbformat_minor": 2
}
