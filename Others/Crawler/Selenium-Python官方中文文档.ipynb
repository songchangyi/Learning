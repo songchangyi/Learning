{
 "cells": [
  {
   "cell_type": "markdown",
   "metadata": {},
   "source": [
    "# 2 快速入门"
   ]
  },
  {
   "cell_type": "markdown",
   "metadata": {},
   "source": [
    "### 2.1 简单用例"
   ]
  },
  {
   "cell_type": "code",
   "execution_count": 2,
   "metadata": {
    "collapsed": true
   },
   "outputs": [],
   "source": [
    "from selenium import webdriver\n",
    "from selenium.webdriver.common.keys import Keys\n",
    "\n",
    "driver = webdriver.PhantomJS()\n",
    "driver.get(\"http://www.python.org\")\n",
    "assert \"Python\" in driver.title\n",
    "elem = driver.find_element_by_name(\"q\")\n",
    "elem.clear()\n",
    "elem.send_keys(\"pycon\")\n",
    "elem.send_keys(Keys.RETURN)\n",
    "assert \"No results found.\" not in driver.page_source\n",
    "driver.close()"
   ]
  },
  {
   "cell_type": "markdown",
   "metadata": {},
   "source": [
    "### 2-3 测试用例"
   ]
  },
  {
   "cell_type": "code",
   "execution_count": 9,
   "metadata": {
    "collapsed": true
   },
   "outputs": [],
   "source": [
    "import unittest\n",
    "from selenium import webdriver\n",
    "from selenium.webdriver.common.keys import Keys\n",
    "\n",
    "class PythonOrgSearch(unittest.TestCase):\n",
    "\n",
    "    def setUp(self):\n",
    "        self.driver = webdriver.PhantomJS()\n",
    "\n",
    "    def test_search_in_python_org(self):\n",
    "        driver = self.driver\n",
    "        driver.get(\"http://www.python.org\")\n",
    "        self.assertIn(\"Python\", driver.title)\n",
    "        elem = driver.find_element_by_name(\"q\")\n",
    "        elem.send_keys(\"pycon\")\n",
    "        elem.send_keys(Keys.RETURN)\n",
    "        assert \"No results found.\" not in driver.page_source\n",
    "\n",
    "    def tearDown(self):\n",
    "        self.driver.close()\n",
    "        \n",
    "if __name__ == \"__main__\" and '__file__' in globals():\n",
    "    unittest.main()"
   ]
  },
  {
   "cell_type": "markdown",
   "metadata": {},
   "source": [
    "# 3 打开一个页面"
   ]
  },
  {
   "cell_type": "markdown",
   "metadata": {},
   "source": [
    "### 3-1 与页面交互"
   ]
  },
  {
   "cell_type": "code",
   "execution_count": null,
   "metadata": {
    "collapsed": true
   },
   "outputs": [],
   "source": [
    "\"\"\"\n",
    "<input type=\"text\" name=\"passwd\" id=\"passwd-id\" />\n",
    "\"\"\"\n",
    "\n",
    "element = driver.find_element_by_id(\"passwd-id\")\n",
    "element = driver.find_element_by_name(\"passwd\")\n",
    "element = driver.find_element_by_xpath(\"//input[@id='passwd-id']\")"
   ]
  },
  {
   "cell_type": "code",
   "execution_count": null,
   "metadata": {
    "collapsed": true
   },
   "outputs": [],
   "source": [
    "element.send_keys(\" and some\", Keys.ARROW_DOWN)"
   ]
  },
  {
   "cell_type": "code",
   "execution_count": null,
   "metadata": {
    "collapsed": true
   },
   "outputs": [],
   "source": [
    "element.clear()"
   ]
  },
  {
   "cell_type": "markdown",
   "metadata": {},
   "source": [
    "### 3-2 填写表格"
   ]
  },
  {
   "cell_type": "code",
   "execution_count": null,
   "metadata": {
    "collapsed": true
   },
   "outputs": [],
   "source": [
    "# 处理下拉列表\n",
    "element = driver.find_element_by_xpath(\"//select[@name='name']\")\n",
    "all_options = element.find_elements_by_tag_name(\"option\")\n",
    "for option in all_options:\n",
    "    print(\"Value is: %s\" % option.get_attribute(\"value\"))\n",
    "    option.click()\n",
    "    \n",
    "# 优化处理\n",
    "from selenium.webdriver.support.ui import Select\n",
    "select = Select(driver.find_element_by_name('name'))\n",
    "select.select_by_index(index)\n",
    "select.select_by_visible_text(\"text\")\n",
    "select.select_by_value(value)"
   ]
  },
  {
   "cell_type": "code",
   "execution_count": null,
   "metadata": {
    "collapsed": true
   },
   "outputs": [],
   "source": [
    "# 取消选择\n",
    "select = Select(driver.find_element_by_id('id'))\n",
    "select.deselect_all()\n",
    "\n",
    "# 所有已选择的项\n",
    "select = Select(driver.find_element_by_xpath(\"xpath\"))\n",
    "all_selected_options = select.all_selected_options\n",
    "\n",
    "# 所有选项\n",
    "options = select.options"
   ]
  },
  {
   "cell_type": "code",
   "execution_count": null,
   "metadata": {
    "collapsed": true
   },
   "outputs": [],
   "source": [
    "# 提交\n",
    "driver.find_element_by_id(\"submit\").click()"
   ]
  },
  {
   "cell_type": "markdown",
   "metadata": {},
   "source": [
    "### 3-3 拖放"
   ]
  },
  {
   "cell_type": "code",
   "execution_count": null,
   "metadata": {
    "collapsed": true
   },
   "outputs": [],
   "source": [
    "element = driver.find_element_by_name(\"source\")\n",
    "target = driver.find_element_by_name(\"target\")\n",
    "\n",
    "from selenium.webdriver import ActionChains\n",
    "action_chains = ActionChains(driver)\n",
    "action_chains.drag_and_drop(element, target).perform()"
   ]
  },
  {
   "cell_type": "markdown",
   "metadata": {},
   "source": [
    "### 3-4 在不同的窗口和框架之间移动"
   ]
  },
  {
   "cell_type": "code",
   "execution_count": null,
   "metadata": {
    "collapsed": true
   },
   "outputs": [],
   "source": [
    "# <a href=\"somewhere.html\" target=\"windowName\">Click here to open a new window</a>\n",
    "driver.switch_to_window(\"windowName\")\n",
    "\n",
    "# 迭代所有打开的窗口\n",
    "for handle in driver.window_handles:\n",
    "    driver.switch_to_window(handle)\n",
    "    \n",
    "# 切换frame\n",
    "driver.switch_to_frame(\"frameName\")\n",
    "\n",
    "# 子frame\n",
    "driver.switch_to_frame(\"frameName.0.child\")\n",
    "\n",
    "# 返回父frame\n",
    "driver.switch_to_default_content()"
   ]
  },
  {
   "cell_type": "markdown",
   "metadata": {},
   "source": [
    "### 3-5 弹出对话框"
   ]
  },
  {
   "cell_type": "code",
   "execution_count": null,
   "metadata": {
    "collapsed": true
   },
   "outputs": [],
   "source": [
    "alert = driver.switch_to_alert()"
   ]
  },
  {
   "cell_type": "markdown",
   "metadata": {},
   "source": [
    "### 3-6 访问浏览器历史记录"
   ]
  },
  {
   "cell_type": "code",
   "execution_count": null,
   "metadata": {
    "collapsed": true
   },
   "outputs": [],
   "source": [
    "driver.get(\"http://www.example.com\")\n",
    "\n",
    "# 前进后退\n",
    "driver.forward()\n",
    "driver.back()"
   ]
  },
  {
   "cell_type": "markdown",
   "metadata": {},
   "source": [
    "### 3-7 操作Cookies"
   ]
  },
  {
   "cell_type": "code",
   "execution_count": null,
   "metadata": {
    "collapsed": true
   },
   "outputs": [],
   "source": [
    "driver.get(“http://www.example.com”)\n",
    "cookie = {‘name’ : ‘foo’, ‘value’ : ‘bar’} driver.add_cookie(cookie)\n",
    "driver.get_cookies()"
   ]
  },
  {
   "cell_type": "markdown",
   "metadata": {},
   "source": [
    "## 4 查找元素"
   ]
  },
  {
   "cell_type": "code",
   "execution_count": null,
   "metadata": {
    "collapsed": true
   },
   "outputs": [],
   "source": []
  }
 ],
 "metadata": {
  "anaconda-cloud": {},
  "kernelspec": {
   "display_name": "Python [default]",
   "language": "python",
   "name": "python3"
  },
  "language_info": {
   "codemirror_mode": {
    "name": "ipython",
    "version": 3
   },
   "file_extension": ".py",
   "mimetype": "text/x-python",
   "name": "python",
   "nbconvert_exporter": "python",
   "pygments_lexer": "ipython3",
   "version": "3.5.2"
  }
 },
 "nbformat": 4,
 "nbformat_minor": 1
}
